{
 "cells": [
  {
   "cell_type": "code",
   "execution_count": null,
   "metadata": {},
   "outputs": [],
   "source": [
    "from biotransformers import BioTransformers\n",
    "BioTransformers.list_backend()"
   ]
  },
  {
   "cell_type": "code",
   "execution_count": null,
   "metadata": {},
   "outputs": [],
   "source": [
    "import torch\n",
    "from Bio import SeqIO\n",
    "import numpy as np\n",
    "import pandas as pd\n",
    "\n",
    "# sequences = [\"MKTVRQE\"]esm1_t6_43M_UR50S,esm1b_t33_650M_UR50S\n",
    "from biotransformers import BioTransformers\n",
    "bio_trans = BioTransformers(backend=\"esm1_t6_43M_UR50S\")\n",
    "seqList = []  \n",
    "idList = []\n",
    "for seq_record in SeqIO.parse('./zn15.fasta', \"fasta\"):\n",
    "    seq = str(seq_record.seq).upper()\n",
    "    id = str(seq_record.id)\n",
    "    if len(seq) < 15:\n",
    "        add_aa = 'A' * (15 - len(seq))\n",
    "        seq = seq + add_aa   \n",
    "    seqList.append(str(seq))\n",
    "    idList.append(str(id))\n",
    "\n",
    "embedds,labels = [],[]\n",
    "# train_dic = {\"ID\": idList, \"sequence\": seqList,\"embedd\":[], \"label\":[]}\n",
    "seq2embedding = {} \n",
    "for seq1 in seqList:\n",
    "    embedding = bio_trans.compute_embeddings([seq1], pool_mode=('full'),batch_size=1,n_seqs_msa=6,silent = False)\n",
    "    embedding = embedding['full']\n",
    "    embedding = np.array(embedding,dtype=np.float32)\n",
    "    embedding = np.squeeze(embedding, axis=0) \n",
    "    embedds.append(embedding)\n",
    "    labels.append(1)\n",
    "    \n",
    "\n",
    "mg_dic = {\"ID\": idList, \"sequence\": seqList,\"embedd\":embedds, \"label\":labels}"
   ]
  },
  {
   "cell_type": "code",
   "execution_count": 3,
   "metadata": {},
   "outputs": [
    {
     "data": {
      "text/plain": [
       "324"
      ]
     },
     "execution_count": 3,
     "metadata": {},
     "output_type": "execute_result"
    }
   ],
   "source": [
    "len(mg_dic['ID'])"
   ]
  },
  {
   "cell_type": "code",
   "execution_count": null,
   "metadata": {},
   "outputs": [],
   "source": [
    "import pickle\n",
    "f_save = open('zn_dic_650M.pkl', 'wb')\n",
    "pickle.dump(mg_dic, f_save)\n",
    "f_save.close()"
   ]
  },
  {
   "cell_type": "code",
   "execution_count": 14,
   "metadata": {},
   "outputs": [],
   "source": [
    "import pickle\n",
    "import pandas as pd\n",
    "import numpy as np\n",
    "file = open('./zn_dic_85M.pkl', mode='rb')\n",
    "fneg_dic = pickle.load(file)\n",
    "file.close()\n"
   ]
  },
  {
   "cell_type": "code",
   "execution_count": 15,
   "metadata": {},
   "outputs": [],
   "source": [
    "file = open('./zn_emb.pkl', mode='rb')\n",
    "fneg_embed = pickle.load(file)\n",
    "file.close()"
   ]
  },
  {
   "cell_type": "code",
   "execution_count": 16,
   "metadata": {},
   "outputs": [],
   "source": [
    "import numpy as np\n",
    "list1 = []\n",
    "for i in range(len(fneg_embed)):\n",
    "    con_embedd =np.concatenate((fneg_dic['embedd'][i], fneg_embed[i]), axis=1)\n",
    "    list1.append(con_embedd) "
   ]
  },
  {
   "cell_type": "code",
   "execution_count": 20,
   "metadata": {},
   "outputs": [],
   "source": [
    "fneg_dic['embedd'] = fneg_embed"
   ]
  },
  {
   "cell_type": "code",
   "execution_count": 17,
   "metadata": {},
   "outputs": [],
   "source": [
    "fneg_dic['embedd'] = list1"
   ]
  },
  {
   "cell_type": "code",
   "execution_count": 23,
   "metadata": {},
   "outputs": [
    {
     "data": {
      "text/plain": [
       "(15, 1024)"
      ]
     },
     "execution_count": 23,
     "metadata": {},
     "output_type": "execute_result"
    }
   ],
   "source": [
    "fneg_dic['embedd'][4].shape"
   ]
  },
  {
   "cell_type": "code",
   "execution_count": 24,
   "metadata": {},
   "outputs": [],
   "source": [
    "f_save = open('zn_dic_BFD.pkl', 'wb')\n",
    "pickle.dump(fneg_dic, f_save)\n",
    "f_save.close()"
   ]
  },
  {
   "cell_type": "code",
   "execution_count": null,
   "metadata": {},
   "outputs": [],
   "source": [
    "from biotransformers import BioTransformers\n",
    "import torch\n",
    "from Bio import SeqIO\n",
    "import numpy as np\n",
    "import pandas as pd\n",
    "\n",
    "bio_trans = BioTransformers(backend=\"esm1b_t33_650M_UR50S\")\n",
    "\n",
    "seqList = []  \n",
    "idList = []\n",
    "for seq_record in SeqIO.parse('./negative15.fasta', \"fasta\"):\n",
    "    seq = str(seq_record.seq).upper()\n",
    "    id = str(seq_record.id)\n",
    "    if len(seq) < 15:\n",
    "        add_aa = 'A' * (15 - len(seq))\n",
    "        seq = seq + add_aa \n",
    "    seqList.append(str(seq))\n",
    "    idList.append(str(id))\n",
    "\n",
    "embedds,labels = [],[]\n",
    "neg_dic = {\"ID\": idList, \"sequence\": seqList,\"embedd\":[], \"label\":[]}\n",
    "seq2embedding = {} \n",
    "for seq1 in seqList:\n",
    "    embedding = bio_trans.compute_embeddings([seq1], pool_mode=('full'),batch_size=8)\n",
    "    embedding = embedding['full']\n",
    "    embedding = np.array(embedding,dtype=np.float32)#转为np，shape查看维度\n",
    "    embedding = np.squeeze(embedding, axis=0) \n",
    "    embedds.append(embedding)\n",
    "    labels.append(0)\n",
    "    \n",
    "    # embedding = torch.FloatTensor(embedding)\n",
    "    # embedding = embedding.squeeze(0)\n",
    "    # seq2embedding[seq1] = embedding\n",
    "\n",
    "neg_dic = {\"ID\": idList, \"sequence\": seqList,\"embedd\":embedds, \"label\":labels}"
   ]
  },
  {
   "cell_type": "code",
   "execution_count": 5,
   "metadata": {},
   "outputs": [],
   "source": [
    "import pickle\n",
    "import pandas as pd\n",
    "file = open('./neg_dic_85M.pkl', mode='rb')\n",
    "neg85_dic = pickle.load(file)\n",
    "file.close()\n"
   ]
  },
  {
   "cell_type": "code",
   "execution_count": 6,
   "metadata": {},
   "outputs": [],
   "source": [
    "import numpy as np\n",
    "list1 = []\n",
    "for i in range(len(neg85_dic['embedd'])):\n",
    "    con_embedd =np.concatenate((neg85_dic['embedd'][i], neg_dic['embedd'][i]), axis=1)\n",
    "    list1.append(con_embedd) "
   ]
  },
  {
   "cell_type": "code",
   "execution_count": 7,
   "metadata": {},
   "outputs": [],
   "source": [
    "neg_dic['embedd'] = list1"
   ]
  },
  {
   "cell_type": "code",
   "execution_count": 11,
   "metadata": {},
   "outputs": [
    {
     "data": {
      "text/plain": [
       "(15, 2048)"
      ]
     },
     "execution_count": 11,
     "metadata": {},
     "output_type": "execute_result"
    }
   ],
   "source": [
    "neg_dic['embedd'][100].shape"
   ]
  }
 ],
 "metadata": {
  "kernelspec": {
   "display_name": "bio-transformers",
   "language": "python",
   "name": "python3"
  },
  "language_info": {
   "codemirror_mode": {
    "name": "ipython",
    "version": 3
   },
   "file_extension": ".py",
   "mimetype": "text/x-python",
   "name": "python",
   "nbconvert_exporter": "python",
   "pygments_lexer": "ipython3",
   "version": "3.7.16"
  },
  "orig_nbformat": 4
 },
 "nbformat": 4,
 "nbformat_minor": 2
}
